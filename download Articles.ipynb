{
 "cells": [
  {
   "cell_type": "code",
   "execution_count": 95,
   "metadata": {},
   "outputs": [],
   "source": [
    "import selenium\n",
    "import requests\n",
    "import time"
   ]
  },
  {
   "cell_type": "code",
   "execution_count": 9,
   "metadata": {},
   "outputs": [],
   "source": [
    "from selenium import webdriver\n",
    "from selenium.webdriver.chrome.options import Options\n",
    "chrome_options = Options()\n",
    "chrome_options.add_argument(\"--headless\")"
   ]
  },
  {
   "cell_type": "code",
   "execution_count": 125,
   "metadata": {},
   "outputs": [],
   "source": [
    "driver = webdriver.Chrome(options=chrome_options)\n",
    "driver2 = webdriver.Chrome(options=chrome_options)"
   ]
  },
  {
   "cell_type": "code",
   "execution_count": 156,
   "metadata": {},
   "outputs": [],
   "source": [
    "year2url = {\"2019\":\"https://papers.nips.cc/book/advances-in-neural-information-processing-systems-32-2019\",\n",
    " \"2018\": \"https://papers.nips.cc/book/advances-in-neural-information-processing-systems-31-2018\",\n",
    " \"2017\": \"https://papers.nips.cc/book/advances-in-neural-information-processing-systems-30-2017\",\n",
    " \"2016\": \"https://papers.nips.cc/book/advances-in-neural-information-processing-systems-29-2016\",\n",
    " \"2015\": \"https://papers.nips.cc/book/advances-in-neural-information-processing-systems-28-2015\"\n",
    "}"
   ]
  },
  {
   "cell_type": "code",
   "execution_count": null,
   "metadata": {},
   "outputs": [
    {
     "name": "stdout",
     "output_type": "stream",
     "text": [
      "<selenium.webdriver.remote.webelement.WebElement (session=\"22a2b3b64bb1c87b659a5e8ee601ebee\", element=\"c0758ad9-b5ef-4f71-ae71-24cbeed72141\")>\n",
      "Multimodal Model-Agnostic Meta-Learning via Task-Aware Modulation Risto Vuorio, Shao-Hua Sun, Hexiang Hu, Joseph J. Lim\n",
      "--------\n"
     ]
    }
   ],
   "source": [
    "dataList = list()\n",
    "for y, url in year2url.items():\n",
    "    driver = webdriver.Chrome(options=chrome_options)\n",
    "    driver2 = webdriver.Chrome(options=chrome_options)\n",
    "    \n",
    "    data = downloadAllPaper(url, y)\n",
    "    dataList.append(data)\n"
   ]
  },
  {
   "cell_type": "code",
   "execution_count": null,
   "metadata": {},
   "outputs": [],
   "source": []
  },
  {
   "cell_type": "code",
   "execution_count": 146,
   "metadata": {},
   "outputs": [],
   "source": [
    "def downloadAllPaper(mainUrl, year):\n",
    "    did2data = {}\n",
    "    \n",
    "    \n",
    "    driver.get(mainUrl)\n",
    "    ulElements = driver.find_elements_by_tag_name(\"ul\")\n",
    "    ul = ulElements[1]\n",
    "    liElemetns = ul.find_elements_by_tag_name(\"li\")\n",
    "    \n",
    "    for i, li in enumerate(liElemetns):\n",
    "        did = str(year) + \"_\"+ str(i)\n",
    "        \n",
    "        print(li)\n",
    "        print(li.text)\n",
    "        print(\"--------\")\n",
    "        \n",
    "        aElements = li.find_element_by_tag_name(\"a\")\n",
    "\n",
    "        paperUrl = aElements.get_attribute('href')\n",
    "        did2data[did] = downloadPaperData(did, paperUrl)\n",
    "        time.sleep(0.2)\n",
    "        break\n",
    "        \n",
    "    return did2data\n",
    "\n",
    "    "
   ]
  },
  {
   "cell_type": "code",
   "execution_count": 154,
   "metadata": {},
   "outputs": [
    {
     "name": "stdout",
     "output_type": "stream",
     "text": [
      "<selenium.webdriver.remote.webelement.WebElement (session=\"77a16da459ef029ca3af6b770395b716\", element=\"2b671750-7c48-4085-af93-f31eab24d13c\")>\n",
      "Multimodal Model-Agnostic Meta-Learning via Task-Aware Modulation Risto Vuorio, Shao-Hua Sun, Hexiang Hu, Joseph J. Lim\n",
      "--------\n"
     ]
    }
   ],
   "source": [
    "X = downloadAllPaper(nip2019, \"2019\")"
   ]
  },
  {
   "cell_type": "code",
   "execution_count": 155,
   "metadata": {},
   "outputs": [
    {
     "data": {
      "text/plain": [
       "{'2019_0': {'title': 'Multimodal Model-Agnostic Meta-Learning via Task-Aware Modulation',\n",
       "  'abstract': 'Model-agnostic meta-learners aim to acquire meta-learned parameters from similar tasks to adapt to novel tasks from the same distribution with few gradient updates. With the flexibility in the choice of models, those frameworks demonstrate appealing performance on a variety of domains such as few-shot image classification and reinforcement learning. However, one important limitation of such frameworks is that they seek a common initialization shared across the entire task distribution, substantially limiting the diversity of the task distributions that they are able to learn from. In this paper, we augment MAML with the capability to identify the mode of tasks sampled from a multimodal task distribution and adapt quickly through gradient updates. Specifically, we propose a multimodal MAML (MMAML) framework, which is able to modulate its meta-learned prior parameters according to the identified mode, allowing more efficient fast adaptation. We evaluate the proposed model on a diverse set of few-shot learning tasks, including regression, image classification, and reinforcement learning. The results not only demonstrate the effectiveness of our model in modulating the meta-learned prior in response to the characteristics of tasks but also show that training on a multimodal distribution can produce an improvement over unimodal training. The code for this project is publicly available at https://vuoristo.github.io/MMAML.',\n",
       "  'authors': ['Risto Vuorio', 'Shao-Hua Sun', 'Hexiang Hu', 'Joseph J. Lim']}}"
      ]
     },
     "execution_count": 155,
     "metadata": {},
     "output_type": "execute_result"
    }
   ],
   "source": [
    "X"
   ]
  },
  {
   "cell_type": "code",
   "execution_count": 151,
   "metadata": {},
   "outputs": [],
   "source": [
    "def downloadPaperData(did, url):\n",
    "    \n",
    "    driver2.get(url)\n",
    "    title = driver2.find_element_by_class_name(\"subtitle\").text\n",
    "    abstract = driver2.find_element_by_class_name(\"abstract\").text\n",
    "    authors = getAuthors()\n",
    "    downloadPdf(did)\n",
    "    \n",
    "    return {\"title\":title, \"abstract\":abstract, \"authors\":authors}\n",
    "    \n",
    "    "
   ]
  },
  {
   "cell_type": "code",
   "execution_count": 152,
   "metadata": {},
   "outputs": [],
   "source": [
    "def getAuthors():\n",
    "    ulElements = driver2.find_elements_by_tag_name(\"ul\")\n",
    "    ul = ulElements[1]\n",
    "    \n",
    "    liElemetns = ul.find_elements_by_tag_name(\"li\")\n",
    "    \n",
    "    authors = list()\n",
    "    for li in liElemetns:\n",
    "        authors.append(li.find_element_by_tag_name(\"a\").text)\n",
    "    return authors\n"
   ]
  },
  {
   "cell_type": "code",
   "execution_count": 153,
   "metadata": {},
   "outputs": [],
   "source": [
    "def downloadPdf(did):\n",
    "    url = None\n",
    "    aTags = driver.find_elements_by_tag_name(\"a\")\n",
    "    for a in aTags:\n",
    "        if a.text == \"[PDF]\":\n",
    "            url = a.get_attribute('href')\n",
    "    \n",
    "    if url:\n",
    "        response = requests.get(url)\n",
    "        with open('/hdd/dataPhdProject/{}.pdf'.format(did), 'wb') as f:\n",
    "            f.write(response.content)\n"
   ]
  },
  {
   "cell_type": "code",
   "execution_count": 59,
   "metadata": {},
   "outputs": [
    {
     "name": "stdout",
     "output_type": "stream",
     "text": [
      " BERTmodel\t\t\t     diva2019\t     lost+found\r\n",
      "'DiVA-data - KTH_s platformar.zip'   diva_2004\t     temp\r\n",
      " dataX.zip\t\t\t     diva_2004.zip   terranData\r\n",
      " dataframes\t\t\t     diva_olds\t     terranDataFrontend\r\n"
     ]
    }
   ],
   "source": [
    "!ls /hdd"
   ]
  },
  {
   "cell_type": "code",
   "execution_count": null,
   "metadata": {},
   "outputs": [],
   "source": []
  }
 ],
 "metadata": {
  "kernelspec": {
   "display_name": "Python (terran3)",
   "language": "python",
   "name": "terran3"
  },
  "language_info": {
   "codemirror_mode": {
    "name": "ipython",
    "version": 3
   },
   "file_extension": ".py",
   "mimetype": "text/x-python",
   "name": "python",
   "nbconvert_exporter": "python",
   "pygments_lexer": "ipython3",
   "version": "3.6.10"
  }
 },
 "nbformat": 4,
 "nbformat_minor": 2
}
